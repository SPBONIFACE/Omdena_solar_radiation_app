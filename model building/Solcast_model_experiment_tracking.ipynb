{
 "cells": [
  {
   "cell_type": "markdown",
   "metadata": {
    "id": "aX65NLEsyjha"
   },
   "source": [
    "#  Algorithm training, testing, and validation"
   ]
  },
  {
   "cell_type": "markdown",
   "metadata": {
    "id": "frWMroqMyp79"
   },
   "source": [
    "In the first 2 parts of our project we extracted solar radiation data for Boulogne-Billancourt (Greater Paris, France), cleaned the data and formated our data, then visualized our data in order to get some insights.\n",
    "In this new section of our project, we are going to predict daily solar radiations in Boulogne - Billancour using the variables contained in our dataset."
   ]
  },
  {
   "cell_type": "markdown",
   "metadata": {
    "id": "CfY0DJlmMNt4"
   },
   "source": [
    "## I- Import libraries and dataset"
   ]
  },
  {
   "cell_type": "code",
   "execution_count": 1,
   "metadata": {
    "id": "0xK0uBuTE9G-"
   },
   "outputs": [],
   "source": [
    "# import libraries\n",
    "import numpy as np\n",
    "import pandas as pd\n",
    "#import seaborn as sns\n",
    "import matplotlib.pyplot as plt\n",
    "import datetime as dt\n",
    "from sklearn.model_selection import train_test_split\n",
    "from sklearn.model_selection import StratifiedKFold, RepeatedKFold, KFold\n",
    "from sklearn.pipeline import make_pipeline\n",
    "from sklearn.model_selection import cross_val_score\n",
    "from sklearn.preprocessing import StandardScaler\n",
    "from sklearn.linear_model import LinearRegression\n",
    "from sklearn.tree import DecisionTreeRegressor\n",
    "from sklearn.ensemble import RandomForestRegressor\n",
    "import lightgbm as lgb\n",
    "import xgboost as xgb\n",
    "from sklearn.metrics import r2_score, mean_squared_error, mean_absolute_error\n",
    "import warnings\n",
    "warnings.simplefilter(action='ignore', category=FutureWarning)\n",
    "warnings.filterwarnings(\"ignore\", category=DeprecationWarning) \n",
    "#sns.set() # Revert to matplotlib defaults\n",
    "plt.rcParams['figure.figsize'] = (16, 12)"
   ]
  },
  {
   "cell_type": "code",
   "execution_count": 2,
   "metadata": {
    "id": "HVT9sj2pMeZt"
   },
   "outputs": [],
   "source": [
    "# Load dataset\n",
    "df = pd.read_csv(\"solarcast_df_clean281221.csv\")"
   ]
  },
  {
   "cell_type": "code",
   "execution_count": 3,
   "metadata": {
    "colab": {
     "base_uri": "https://localhost:8080/"
    },
    "executionInfo": {
     "elapsed": 51,
     "status": "ok",
     "timestamp": 1641076455522,
     "user": {
      "displayName": "Sandra Boniface",
      "photoUrl": "https://lh3.googleusercontent.com/a/default-user=s64",
      "userId": "03345789915334645141"
     },
     "user_tz": -60
    },
    "id": "U4TWDcpONG_P",
    "outputId": "64746811-0eec-475e-921e-4ae616cc8558"
   },
   "outputs": [
    {
     "data": {
      "text/plain": [
       "Index(['Unnamed: 0', 'MonthPE', 'Date', 'Season', 'Daily_Temp', 'Daily_Precip',\n",
       "       'Daily_Humidity', 'Daily_Pressure', 'Daily_WindDir', 'Daily_WindSpeed',\n",
       "       'Daily_DNI', 'Daily_GHI', 'Daily_radiation'],\n",
       "      dtype='object')"
      ]
     },
     "execution_count": 3,
     "metadata": {},
     "output_type": "execute_result"
    }
   ],
   "source": [
    "# Display column names\n",
    "df.columns"
   ]
  },
  {
   "cell_type": "code",
   "execution_count": 4,
   "metadata": {
    "colab": {
     "base_uri": "https://localhost:8080/"
    },
    "executionInfo": {
     "elapsed": 49,
     "status": "ok",
     "timestamp": 1641076455524,
     "user": {
      "displayName": "Sandra Boniface",
      "photoUrl": "https://lh3.googleusercontent.com/a/default-user=s64",
      "userId": "03345789915334645141"
     },
     "user_tz": -60
    },
    "id": "WiPHUFE6Ne0o",
    "outputId": "f121f3ff-550f-4169-a1e3-c379980db874"
   },
   "outputs": [
    {
     "name": "stdout",
     "output_type": "stream",
     "text": [
      "<class 'pandas.core.frame.DataFrame'>\n",
      "RangeIndex: 1087 entries, 0 to 1086\n",
      "Data columns (total 13 columns):\n",
      " #   Column           Non-Null Count  Dtype  \n",
      "---  ------           --------------  -----  \n",
      " 0   Unnamed: 0       1087 non-null   object \n",
      " 1   MonthPE          1087 non-null   int64  \n",
      " 2   Date             1087 non-null   object \n",
      " 3   Season           1087 non-null   object \n",
      " 4   Daily_Temp       1087 non-null   float64\n",
      " 5   Daily_Precip     1087 non-null   float64\n",
      " 6   Daily_Humidity   1087 non-null   float64\n",
      " 7   Daily_Pressure   1087 non-null   float64\n",
      " 8   Daily_WindDir    1087 non-null   float64\n",
      " 9   Daily_WindSpeed  1087 non-null   float64\n",
      " 10  Daily_DNI        1087 non-null   float64\n",
      " 11  Daily_GHI        1087 non-null   float64\n",
      " 12  Daily_radiation  1087 non-null   float64\n",
      "dtypes: float64(9), int64(1), object(3)\n",
      "memory usage: 110.5+ KB\n"
     ]
    }
   ],
   "source": [
    "df.info()"
   ]
  },
  {
   "cell_type": "code",
   "execution_count": 5,
   "metadata": {
    "id": "0MmUqmBqNfDa"
   },
   "outputs": [],
   "source": [
    "# Feature Engineering of Time Series Column\n",
    "df['Date'] = pd.to_datetime(df['Date'], format='%Y-%m-%d')\n",
    "df['year'] = df['Date'].dt.year\n",
    "df['month'] = df['Date'].dt.month\n",
    "df['day'] = df['Date'].dt.day"
   ]
  },
  {
   "cell_type": "code",
   "execution_count": 6,
   "metadata": {
    "colab": {
     "base_uri": "https://localhost:8080/"
    },
    "executionInfo": {
     "elapsed": 42,
     "status": "ok",
     "timestamp": 1641076455525,
     "user": {
      "displayName": "Sandra Boniface",
      "photoUrl": "https://lh3.googleusercontent.com/a/default-user=s64",
      "userId": "03345789915334645141"
     },
     "user_tz": -60
    },
    "id": "vT280qyROQT0",
    "outputId": "e8908ff1-8adb-44cf-cb74-36f81f08d6c8"
   },
   "outputs": [
    {
     "data": {
      "text/plain": [
       "Index(['Unnamed: 0', 'MonthPE', 'Date', 'Season', 'Daily_Temp', 'Daily_Precip',\n",
       "       'Daily_Humidity', 'Daily_Pressure', 'Daily_WindDir', 'Daily_WindSpeed',\n",
       "       'Daily_DNI', 'Daily_GHI', 'Daily_radiation', 'year', 'month', 'day'],\n",
       "      dtype='object')"
      ]
     },
     "execution_count": 6,
     "metadata": {},
     "output_type": "execute_result"
    }
   ],
   "source": [
    "# Display column names\n",
    "df.columns"
   ]
  },
  {
   "cell_type": "code",
   "execution_count": 7,
   "metadata": {
    "colab": {
     "base_uri": "https://localhost:8080/",
     "height": 270
    },
    "executionInfo": {
     "elapsed": 38,
     "status": "ok",
     "timestamp": 1641076455526,
     "user": {
      "displayName": "Sandra Boniface",
      "photoUrl": "https://lh3.googleusercontent.com/a/default-user=s64",
      "userId": "03345789915334645141"
     },
     "user_tz": -60
    },
    "id": "xlaj7bOsOeRX",
    "outputId": "07b36c9f-4c0b-40ce-91e7-0d000b0fafce"
   },
   "outputs": [
    {
     "data": {
      "text/html": [
       "<div>\n",
       "<style scoped>\n",
       "    .dataframe tbody tr th:only-of-type {\n",
       "        vertical-align: middle;\n",
       "    }\n",
       "\n",
       "    .dataframe tbody tr th {\n",
       "        vertical-align: top;\n",
       "    }\n",
       "\n",
       "    .dataframe thead th {\n",
       "        text-align: right;\n",
       "    }\n",
       "</style>\n",
       "<table border=\"1\" class=\"dataframe\">\n",
       "  <thead>\n",
       "    <tr style=\"text-align: right;\">\n",
       "      <th></th>\n",
       "      <th>month</th>\n",
       "      <th>day</th>\n",
       "      <th>Daily_Temp</th>\n",
       "      <th>Daily_Precip</th>\n",
       "      <th>Daily_Humidity</th>\n",
       "      <th>Daily_Pressure</th>\n",
       "      <th>Daily_WindDir</th>\n",
       "      <th>Daily_WindSpeed</th>\n",
       "      <th>Daily_DNI</th>\n",
       "      <th>Daily_GHI</th>\n",
       "      <th>Daily_radiation</th>\n",
       "    </tr>\n",
       "  </thead>\n",
       "  <tbody>\n",
       "    <tr>\n",
       "      <th>0</th>\n",
       "      <td>12</td>\n",
       "      <td>31</td>\n",
       "      <td>7.855556</td>\n",
       "      <td>13.611111</td>\n",
       "      <td>95.111111</td>\n",
       "      <td>1020.955556</td>\n",
       "      <td>329.777778</td>\n",
       "      <td>1.844444</td>\n",
       "      <td>0.000000</td>\n",
       "      <td>34.444444</td>\n",
       "      <td>34.444444</td>\n",
       "    </tr>\n",
       "    <tr>\n",
       "      <th>1</th>\n",
       "      <td>1</td>\n",
       "      <td>1</td>\n",
       "      <td>6.900000</td>\n",
       "      <td>9.833333</td>\n",
       "      <td>89.888889</td>\n",
       "      <td>1019.022222</td>\n",
       "      <td>307.888889</td>\n",
       "      <td>3.522222</td>\n",
       "      <td>0.000000</td>\n",
       "      <td>35.888889</td>\n",
       "      <td>35.888889</td>\n",
       "    </tr>\n",
       "    <tr>\n",
       "      <th>2</th>\n",
       "      <td>1</td>\n",
       "      <td>2</td>\n",
       "      <td>4.266667</td>\n",
       "      <td>6.800000</td>\n",
       "      <td>73.666667</td>\n",
       "      <td>1024.233333</td>\n",
       "      <td>12.222222</td>\n",
       "      <td>4.600000</td>\n",
       "      <td>10.444444</td>\n",
       "      <td>67.000000</td>\n",
       "      <td>66.222222</td>\n",
       "    </tr>\n",
       "    <tr>\n",
       "      <th>3</th>\n",
       "      <td>1</td>\n",
       "      <td>3</td>\n",
       "      <td>2.800000</td>\n",
       "      <td>7.600000</td>\n",
       "      <td>83.222222</td>\n",
       "      <td>1024.522222</td>\n",
       "      <td>22.666667</td>\n",
       "      <td>3.233333</td>\n",
       "      <td>22.111111</td>\n",
       "      <td>83.666667</td>\n",
       "      <td>81.777778</td>\n",
       "    </tr>\n",
       "    <tr>\n",
       "      <th>4</th>\n",
       "      <td>1</td>\n",
       "      <td>4</td>\n",
       "      <td>2.011111</td>\n",
       "      <td>8.522222</td>\n",
       "      <td>86.222222</td>\n",
       "      <td>1024.433333</td>\n",
       "      <td>15.222222</td>\n",
       "      <td>3.077778</td>\n",
       "      <td>33.777778</td>\n",
       "      <td>65.222222</td>\n",
       "      <td>58.222222</td>\n",
       "    </tr>\n",
       "  </tbody>\n",
       "</table>\n",
       "</div>"
      ],
      "text/plain": [
       "   month  day  Daily_Temp  Daily_Precip  Daily_Humidity  Daily_Pressure  \\\n",
       "0     12   31    7.855556     13.611111       95.111111     1020.955556   \n",
       "1      1    1    6.900000      9.833333       89.888889     1019.022222   \n",
       "2      1    2    4.266667      6.800000       73.666667     1024.233333   \n",
       "3      1    3    2.800000      7.600000       83.222222     1024.522222   \n",
       "4      1    4    2.011111      8.522222       86.222222     1024.433333   \n",
       "\n",
       "   Daily_WindDir  Daily_WindSpeed  Daily_DNI  Daily_GHI  Daily_radiation  \n",
       "0     329.777778         1.844444   0.000000  34.444444        34.444444  \n",
       "1     307.888889         3.522222   0.000000  35.888889        35.888889  \n",
       "2      12.222222         4.600000  10.444444  67.000000        66.222222  \n",
       "3      22.666667         3.233333  22.111111  83.666667        81.777778  \n",
       "4      15.222222         3.077778  33.777778  65.222222        58.222222  "
      ]
     },
     "execution_count": 7,
     "metadata": {},
     "output_type": "execute_result"
    }
   ],
   "source": [
    "# Select features to be used for modelling\n",
    "df = df[['month', 'day','Daily_Temp', 'Daily_Precip', 'Daily_Humidity',\n",
    "       'Daily_Pressure', 'Daily_WindDir', 'Daily_WindSpeed', 'Daily_DNI',\n",
    "       'Daily_GHI', 'Daily_radiation']]\n",
    "df.head()"
   ]
  },
  {
   "cell_type": "markdown",
   "metadata": {
    "id": "dmQ9UF6GPn6T"
   },
   "source": [
    "## II- Model training and testing"
   ]
  },
  {
   "cell_type": "markdown",
   "metadata": {
    "id": "NvFBAVu7E1hT"
   },
   "source": [
    "### a) Model training"
   ]
  },
  {
   "cell_type": "code",
   "execution_count": 8,
   "metadata": {
    "id": "ydNuERfdP21o"
   },
   "outputs": [],
   "source": [
    "# produces a 70%, 15%, 15% split for training, validation and test sets\n",
    "train_data, validation_data, test_data = np.split(df.sample(frac = 1), [int(.7 * len(df)), int(.85 * len(df))])"
   ]
  },
  {
   "cell_type": "code",
   "execution_count": 9,
   "metadata": {
    "id": "Mu7h4h4fQVTq"
   },
   "outputs": [],
   "source": [
    "# Convert dataframes to .csv and save locally\n",
    "train_data.to_csv('solarcast_train.csv', header = True, index = False)\n",
    "validation_data.to_csv('solarcast_validation.csv', header=True, index = False)\n",
    "test_data.to_csv('solarcast_test.csv', header = True, index = False)"
   ]
  },
  {
   "cell_type": "code",
   "execution_count": 10,
   "metadata": {
    "id": "03kwMn-yRMna"
   },
   "outputs": [],
   "source": [
    "# Training data\n",
    "train_df = pd.read_csv('solarcast_train.csv')\n",
    "X_train = train_df.drop(['Daily_radiation'], axis = 1)\n",
    "y_train = train_df['Daily_radiation']\n",
    "\n",
    "# Test data\n",
    "test_df = pd.read_csv('solarcast_test.csv')\n",
    "X_test = test_df.drop(['Daily_radiation'], axis = 1)\n",
    "y_test = test_df['Daily_radiation']"
   ]
  },
  {
   "cell_type": "code",
   "execution_count": 11,
   "metadata": {
    "id": "9RvCEVa1m80Q"
   },
   "outputs": [],
   "source": [
    "# Create a pipeline to scale our data then fit our different models\n",
    "pipelines = {\n",
    "    'LR': make_pipeline(StandardScaler(), LinearRegression()),\n",
    "    'RFC': make_pipeline(StandardScaler(), RandomForestRegressor(random_state=1)),\n",
    "    'XGB': make_pipeline(StandardScaler(), xgb.XGBRegressor(objective ='reg:squarederror', random_state=1)),\n",
    "    'CART': make_pipeline(StandardScaler(), DecisionTreeRegressor(random_state=1)),\n",
    "    'LGB': make_pipeline(StandardScaler(),lgb.LGBMRegressor(random_state=1))\n",
    "}"
   ]
  },
  {
   "cell_type": "code",
   "execution_count": 12,
   "metadata": {
    "colab": {
     "base_uri": "https://localhost:8080/"
    },
    "executionInfo": {
     "elapsed": 140,
     "status": "ok",
     "timestamp": 1641076456121,
     "user": {
      "displayName": "Sandra Boniface",
      "photoUrl": "https://lh3.googleusercontent.com/a/default-user=s64",
      "userId": "03345789915334645141"
     },
     "user_tz": -60
    },
    "id": "n-gkFaozosjE",
    "outputId": "e3d0a00e-8358-43b1-ff62-bb5e7490590b"
   },
   "outputs": [
    {
     "data": {
      "text/plain": [
       "dict_items([('LR', Pipeline(steps=[('standardscaler', StandardScaler()),\n",
       "                ('linearregression', LinearRegression())])), ('RFC', Pipeline(steps=[('standardscaler', StandardScaler()),\n",
       "                ('randomforestregressor',\n",
       "                 RandomForestRegressor(random_state=1))])), ('XGB', Pipeline(steps=[('standardscaler', StandardScaler()),\n",
       "                ('xgbregressor',\n",
       "                 XGBRegressor(base_score=None, booster=None,\n",
       "                              colsample_bylevel=None, colsample_bynode=None,\n",
       "                              colsample_bytree=None, enable_categorical=False,\n",
       "                              gamma=None, gpu_id=None, importance_type=None,\n",
       "                              interaction_constraints=None, learning_rate=None,\n",
       "                              max_delta_step=None, max_depth=None,\n",
       "                              min_child_weight=None, missing=nan,\n",
       "                              monotone_constraints=None, n_estimators=100,\n",
       "                              n_jobs=None, num_parallel_tree=None,\n",
       "                              predictor=None, random_state=1, reg_alpha=None,\n",
       "                              reg_lambda=None, scale_pos_weight=None,\n",
       "                              subsample=None, tree_method=None,\n",
       "                              validate_parameters=None, verbosity=None))])), ('CART', Pipeline(steps=[('standardscaler', StandardScaler()),\n",
       "                ('decisiontreeregressor',\n",
       "                 DecisionTreeRegressor(random_state=1))])), ('LGB', Pipeline(steps=[('standardscaler', StandardScaler()),\n",
       "                ('lgbmregressor', LGBMRegressor(random_state=1))]))])"
      ]
     },
     "execution_count": 12,
     "metadata": {},
     "output_type": "execute_result"
    }
   ],
   "source": [
    "# Check the content of our pipeline dictionary\n",
    "pipelines.items()"
   ]
  },
  {
   "cell_type": "code",
   "execution_count": 13,
   "metadata": {
    "colab": {
     "base_uri": "https://localhost:8080/"
    },
    "executionInfo": {
     "elapsed": 7273,
     "status": "ok",
     "timestamp": 1641076463266,
     "user": {
      "displayName": "Sandra Boniface",
      "photoUrl": "https://lh3.googleusercontent.com/a/default-user=s64",
      "userId": "03345789915334645141"
     },
     "user_tz": -60
    },
    "id": "UWM6bg5SpMeP",
    "outputId": "ebb6b775-b40f-4e3c-849f-21dff879e59b"
   },
   "outputs": [
    {
     "name": "stdout",
     "output_type": "stream",
     "text": [
      "LR has been fitted.\n",
      "LR: 0.816533 (0.033377)\n",
      "RFC has been fitted.\n",
      "RFC: 0.955916 (0.011157)\n",
      "XGB has been fitted.\n",
      "XGB: 0.955263 (0.007053)\n",
      "CART has been fitted.\n",
      "CART: 0.913450 (0.023987)\n",
      "LGB has been fitted.\n",
      "LGB: 0.966441 (0.004782)\n"
     ]
    }
   ],
   "source": [
    "# The following code fits the model, and evoluate model performance\n",
    "# through cross validation in order to see how models generalize\n",
    "results = []\n",
    "names = []\n",
    "for name, model in pipelines.items():\n",
    "    # Fit model on X_train, y_train\n",
    "    model.fit(X_train.values, y_train)\n",
    "    # Store model in fitted_models[name] for later use\n",
    "    # Print '{name} has been fitted'\n",
    "    print(name, 'has been fitted.')\n",
    "\n",
    "    # Cross validation in order to see how the model generalizes across 10 foldS\n",
    "    kfold = KFold(n_splits=10, random_state=1, shuffle=True)#\n",
    "    cv_results = cross_val_score(model, X_train.values, y_train, cv=kfold, scoring='r2')\n",
    "    results.append(cv_results)\n",
    "    names.append(name)\n",
    "    # Print average r2 and standard deviation of r2 based on 10 CV folds\n",
    "    print('%s: %f (%f)' % (name, cv_results.mean(), cv_results.std()))"
   ]
  },
  {
   "cell_type": "code",
   "execution_count": 14,
   "metadata": {},
   "outputs": [
    {
     "data": {
      "image/png": "[encoded data removed]",
      "text/plain": [
       "<Figure size 1152x864 with 1 Axes>"
      ]
     },
     "metadata": {
      "needs_background": "light"
     },
     "output_type": "display_data"
    }
   ],
   "source": [
    "# Visualize performace of each model using boxplots\n",
    "plt.boxplot(results, labels=names)\n",
    "plt.title('Algorithm Comparison')\n",
    "plt.show()"
   ]
  },
  {
   "cell_type": "markdown",
   "metadata": {
    "id": "W2RPw3pEwd-A"
   },
   "source": [
    "Among our 5 models, LightGBM is the one performing better in terms of average R2 score on the 10 folds. This model is also the one that generalizes better as shown by the CV r2 standard deviation in parenthesis."
   ]
  },
  {
   "cell_type": "markdown",
   "metadata": {
    "id": "Ka4ZA4U0FARK"
   },
   "source": [
    "### b) Evaluating model on test set"
   ]
  },
  {
   "cell_type": "markdown",
   "metadata": {
    "id": "qWauxDFHJ8nh"
   },
   "source": [
    "Now we wil evaluate the model performance of our 5 models using the test set. We will make predictions on the test and compare our predictions vs actual values."
   ]
  },
  {
   "cell_type": "markdown",
   "metadata": {
    "id": "-GGr1Rd00F5q"
   },
   "source": [
    "***Linear Regression***"
   ]
  },
  {
   "cell_type": "code",
   "execution_count": 15,
   "metadata": {},
   "outputs": [],
   "source": [
    "pipeline_lr = pipelines['LR'].fit(X_train.values, y_train)\n",
    "# Make prediction on the test set\n",
    "y_pred_lr = pipeline_lr.predict(X_test.values)"
   ]
  },
  {
   "cell_type": "code",
   "execution_count": 16,
   "metadata": {
    "colab": {
     "base_uri": "https://localhost:8080/"
    },
    "executionInfo": {
     "elapsed": 20,
     "status": "ok",
     "timestamp": 1641076463818,
     "user": {
      "displayName": "Sandra Boniface",
      "photoUrl": "https://lh3.googleusercontent.com/a/default-user=s64",
      "userId": "03345789915334645141"
     },
     "user_tz": -60
    },
    "id": "IlE6WsNI0XaU",
    "outputId": "7b97c806-49a0-4115-a2c7-f938c07db3c2"
   },
   "outputs": [
    {
     "name": "stdout",
     "output_type": "stream",
     "text": [
      "Linear Regression model performance - test set\n",
      "r2_score:  0.8043174958238947\n",
      "Root Mean Squared Error: 5.20\n",
      "Root Mean Absolute Error: 4.76\n"
     ]
    }
   ],
   "source": [
    "mse_lr = mean_squared_error(y_test, y_pred_lr, squared = False)\n",
    "mae_lr = mean_absolute_error(y_test, y_pred_lr)\n",
    "\n",
    "print('Linear Regression model performance - test set')\n",
    "print('r2_score: ', r2_score(y_test, y_pred_lr))\n",
    "print('Root Mean Squared Error: %.2f' % np.sqrt(mse_lr))\n",
    "print('Root Mean Absolute Error: %.2f' % np.sqrt(mae_lr))"
   ]
  },
  {
   "cell_type": "markdown",
   "metadata": {
    "id": "ToEXwuUtLfFz"
   },
   "source": [
    "Now let's visualize model prediction residuals ie true value - predicted value."
   ]
  },
  {
   "cell_type": "code",
   "execution_count": 17,
   "metadata": {},
   "outputs": [
    {
     "data": {
      "text/plain": [
       "LinearRegression()"
      ]
     },
     "execution_count": 17,
     "metadata": {},
     "output_type": "execute_result"
    }
   ],
   "source": [
    "pipelines['LR']['linearregression']"
   ]
  },
  {
   "cell_type": "code",
   "execution_count": 18,
   "metadata": {
    "colab": {
     "base_uri": "https://localhost:8080/",
     "height": 448
    },
    "executionInfo": {
     "elapsed": 969,
     "status": "ok",
     "timestamp": 1641076464770,
     "user": {
      "displayName": "Sandra Boniface",
      "photoUrl": "https://lh3.googleusercontent.com/a/default-user=s64",
      "userId": "03345789915334645141"
     },
     "user_tz": -60
    },
    "id": "0UAtsob90rqE",
    "outputId": "7ed13bf6-393a-47fa-e965-081a627efca9"
   },
   "outputs": [
    {
     "data": {
      "image/png": "[encoded data removed]",
      "text/plain": [
       "<Figure size 576x396 with 2 Axes>"
      ]
     },
     "metadata": {},
     "output_type": "display_data"
    }
   ],
   "source": [
    "from yellowbrick.regressor import ResidualsPlot\n",
    "visualizer = ResidualsPlot(pipeline_lr)\n",
    "\n",
    "visualizer.fit(X_train.values, y_train)  \n",
    "visualizer.score(X_test.values, y_test)  \n",
    "visualizer.show();                "
   ]
  },
  {
   "cell_type": "markdown",
   "metadata": {
    "id": "HX8yIZV5izis"
   },
   "source": [
    "Looking at the graph above, we notice a long tail for which residuals are between -20 and - 70, and predicted values inferior to 50.\n",
    "When performing data visualization in our previous notebook, we noticed that the relationships between Daily radiations and other features were not linear. This probably explains the poor performance we see here on some of the data points."
   ]
  },
  {
   "cell_type": "markdown",
   "metadata": {
    "id": "bIhrusbSLod0"
   },
   "source": [
    "Now we will visualize predictions vs actual target values."
   ]
  },
  {
   "cell_type": "code",
   "execution_count": 19,
   "metadata": {
    "colab": {
     "base_uri": "https://localhost:8080/",
     "height": 450
    },
    "executionInfo": {
     "elapsed": 604,
     "status": "ok",
     "timestamp": 1641076465358,
     "user": {
      "displayName": "Sandra Boniface",
      "photoUrl": "https://lh3.googleusercontent.com/a/default-user=s64",
      "userId": "03345789915334645141"
     },
     "user_tz": -60
    },
    "id": "iPdvVynM3R1T",
    "outputId": "10078d77-31bd-492b-ff2c-e8def3e3b82c"
   },
   "outputs": [
    {
     "data": {
      "image/png": "[encoded data removed]",
      "text/plain": [
       "<Figure size 576x396 with 1 Axes>"
      ]
     },
     "metadata": {},
     "output_type": "display_data"
    }
   ],
   "source": [
    "from yellowbrick.regressor import PredictionError\n",
    "\n",
    "visualizer2 = PredictionError(pipeline_lr)\n",
    "visualizer2.fit(X_train.values, y_train)  # Fit the training data to the visualizer\n",
    "visualizer2.score(X_test.values, y_test)  # Evaluate the model on the test data\n",
    "visualizer2.show();                 # Finalize and render the figure"
   ]
  },
  {
   "cell_type": "markdown",
   "metadata": {
    "id": "Kei_L_TdLwbW"
   },
   "source": [
    "The model regression line is quite far off the identify line ie the line where predictions = actual values."
   ]
  },
  {
   "cell_type": "markdown",
   "metadata": {
    "id": "zYsDZnI03d5z"
   },
   "source": [
    "***Random Forest***"
   ]
  },
  {
   "cell_type": "code",
   "execution_count": 20,
   "metadata": {},
   "outputs": [],
   "source": [
    "pipeline_rfc = pipelines['RFC'].fit(X_train.values, y_train)\n",
    "# Make prediction on the test set\n",
    "y_pred_rfc = pipeline_rfc.predict(X_test.values)"
   ]
  },
  {
   "cell_type": "code",
   "execution_count": 21,
   "metadata": {
    "colab": {
     "base_uri": "https://localhost:8080/"
    },
    "executionInfo": {
     "elapsed": 31,
     "status": "ok",
     "timestamp": 1641076465360,
     "user": {
      "displayName": "Sandra Boniface",
      "photoUrl": "https://lh3.googleusercontent.com/a/default-user=s64",
      "userId": "03345789915334645141"
     },
     "user_tz": -60
    },
    "id": "DvSBM3ah3jO6",
    "outputId": "599acd75-1977-46a1-ec3b-6b82e2d8be62"
   },
   "outputs": [
    {
     "name": "stdout",
     "output_type": "stream",
     "text": [
      "RandomForest model performance - test set\n",
      "r2_score:  0.9678653140340957\n",
      "Root Mean Squared Error: 3.31\n",
      "Root Mean Absolute Error: 2.84\n"
     ]
    }
   ],
   "source": [
    "mse_rfc = mean_squared_error(y_test, y_pred_rfc, squared = False)\n",
    "mae_rfc = mean_absolute_error(y_test, y_pred_rfc)\n",
    "\n",
    "print('RandomForest model performance - test set')\n",
    "print('r2_score: ', r2_score(y_test, y_pred_rfc))\n",
    "print('Root Mean Squared Error: %.2f' % np.sqrt(mse_rfc))\n",
    "print('Root Mean Absolute Error: %.2f' % np.sqrt(mae_rfc))"
   ]
  },
  {
   "cell_type": "code",
   "execution_count": 22,
   "metadata": {
    "colab": {
     "base_uri": "https://localhost:8080/",
     "height": 448
    },
    "executionInfo": {
     "elapsed": 1095,
     "status": "ok",
     "timestamp": 1641076466432,
     "user": {
      "displayName": "Sandra Boniface",
      "photoUrl": "https://lh3.googleusercontent.com/a/default-user=s64",
      "userId": "03345789915334645141"
     },
     "user_tz": -60
    },
    "id": "luCUSuK_4XdG",
    "outputId": "c85f2c59-a84f-4d37-b0ef-5194c58e80a0"
   },
   "outputs": [
    {
     "data": {
      "image/png": "[encoded data removed]",
      "text/plain": [
       "<Figure size 576x396 with 2 Axes>"
      ]
     },
     "metadata": {},
     "output_type": "display_data"
    }
   ],
   "source": [
    "visualizer3 = ResidualsPlot(pipeline_rfc)\n",
    "\n",
    "visualizer3.fit(X_train.values, y_train)  \n",
    "visualizer3.score(X_test.values, y_test)  \n",
    "visualizer3.show();                 "
   ]
  },
  {
   "cell_type": "code",
   "execution_count": 23,
   "metadata": {
    "colab": {
     "base_uri": "https://localhost:8080/",
     "height": 450
    },
    "executionInfo": {
     "elapsed": 40,
     "status": "ok",
     "timestamp": 1641076466433,
     "user": {
      "displayName": "Sandra Boniface",
      "photoUrl": "https://lh3.googleusercontent.com/a/default-user=s64",
      "userId": "03345789915334645141"
     },
     "user_tz": -60
    },
    "id": "RtOyk-1R4bC-",
    "outputId": "9024d71b-69ab-4e54-9452-dd4811f52ace"
   },
   "outputs": [
    {
     "data": {
      "image/png": "[encoded data removed]",
      "text/plain": [
       "<Figure size 576x396 with 1 Axes>"
      ]
     },
     "metadata": {},
     "output_type": "display_data"
    }
   ],
   "source": [
    "visualizer4 = PredictionError(pipeline_rfc)\n",
    "visualizer4.fit(X_train.values, y_train)  \n",
    "visualizer4.score(X_test.values, y_test)  \n",
    "visualizer4.show();                 "
   ]
  },
  {
   "cell_type": "markdown",
   "metadata": {
    "id": "CMECDpy3L_yN"
   },
   "source": [
    "Here we see a net improvement of model performance vs Linear Regression model performance.\n"
   ]
  },
  {
   "cell_type": "markdown",
   "metadata": {
    "id": "2GC8sxhv-Z7y"
   },
   "source": [
    "***XGBoost***"
   ]
  },
  {
   "cell_type": "code",
   "execution_count": 24,
   "metadata": {},
   "outputs": [],
   "source": [
    "pipeline_xgb = pipelines['XGB'].fit(X_train.values, y_train)\n",
    "# Make prediction on the test set\n",
    "y_pred_xgb = pipeline_xgb.predict(X_test.values)"
   ]
  },
  {
   "cell_type": "code",
   "execution_count": 25,
   "metadata": {
    "colab": {
     "base_uri": "https://localhost:8080/"
    },
    "executionInfo": {
     "elapsed": 51,
     "status": "ok",
     "timestamp": 1641076467157,
     "user": {
      "displayName": "Sandra Boniface",
      "photoUrl": "https://lh3.googleusercontent.com/a/default-user=s64",
      "userId": "03345789915334645141"
     },
     "user_tz": -60
    },
    "id": "COS3BbGi-Dfn",
    "outputId": "5aef6ee7-44e4-4af0-be39-207c263a88ca"
   },
   "outputs": [
    {
     "name": "stdout",
     "output_type": "stream",
     "text": [
      "XGBoosr model performance - test set\n",
      "r2_score:  0.9667620348879407\n",
      "Root Mean Squared Error: 3.34\n",
      "Root Mean Absolute Error: 2.83\n"
     ]
    }
   ],
   "source": [
    "mse_xgb = mean_squared_error(y_test, y_pred_xgb, squared = False)\n",
    "mae_xgb = mean_absolute_error(y_test, y_pred_xgb)\n",
    "\n",
    "print('XGBoosr model performance - test set')\n",
    "print('r2_score: ', r2_score(y_test, y_pred_xgb))\n",
    "print('Root Mean Squared Error: %.2f' % np.sqrt(mse_xgb))\n",
    "print('Root Mean Absolute Error: %.2f' % np.sqrt(mae_xgb))"
   ]
  },
  {
   "cell_type": "code",
   "execution_count": 26,
   "metadata": {
    "colab": {
     "base_uri": "https://localhost:8080/",
     "height": 448
    },
    "executionInfo": {
     "elapsed": 620,
     "status": "ok",
     "timestamp": 1641076467730,
     "user": {
      "displayName": "Sandra Boniface",
      "photoUrl": "https://lh3.googleusercontent.com/a/default-user=s64",
      "userId": "03345789915334645141"
     },
     "user_tz": -60
    },
    "id": "Q-j3QdCN-1Mo",
    "outputId": "a356aa43-9a12-4205-c1c7-6528d64a4e7c"
   },
   "outputs": [
    {
     "data": {
      "image/png": "[encoded data removed]",
      "text/plain": [
       "<Figure size 576x396 with 2 Axes>"
      ]
     },
     "metadata": {},
     "output_type": "display_data"
    }
   ],
   "source": [
    "visualizer5 = ResidualsPlot(pipeline_xgb)\n",
    "\n",
    "visualizer5.fit(X_train.values, y_train)  \n",
    "visualizer5.score(X_test.values, y_test)  \n",
    "visualizer5.show();                "
   ]
  },
  {
   "cell_type": "code",
   "execution_count": 27,
   "metadata": {
    "colab": {
     "base_uri": "https://localhost:8080/",
     "height": 450
    },
    "executionInfo": {
     "elapsed": 98,
     "status": "ok",
     "timestamp": 1641076467731,
     "user": {
      "displayName": "Sandra Boniface",
      "photoUrl": "https://lh3.googleusercontent.com/a/default-user=s64",
      "userId": "03345789915334645141"
     },
     "user_tz": -60
    },
    "id": "t3fgUcKh_ITK",
    "outputId": "ccfc5339-a962-4ea9-d0a2-ea43131e4491"
   },
   "outputs": [
    {
     "data": {
      "image/png": "[encoded data removed]",
      "text/plain": [
       "<Figure size 576x396 with 1 Axes>"
      ]
     },
     "metadata": {},
     "output_type": "display_data"
    }
   ],
   "source": [
    "visualizer6 = PredictionError(pipeline_xgb)\n",
    "visualizer6.fit(X_train.values, y_train)\n",
    "visualizer6.score(X_test.values, y_test) \n",
    "visualizer6.show();                 "
   ]
  },
  {
   "cell_type": "markdown",
   "metadata": {
    "id": "XZIRqAi__s8f"
   },
   "source": [
    "***Light GBM***"
   ]
  },
  {
   "cell_type": "code",
   "execution_count": 28,
   "metadata": {},
   "outputs": [],
   "source": [
    "pipeline_lgb = pipelines['LGB'].fit(X_train.values, y_train)\n",
    "#pipelines['LGB'].fit(X_train.values, y_train)\n",
    "# Make prediction on the test set\n",
    "y_pred_lgb = pipeline_lgb.predict(X_test.values)"
   ]
  },
  {
   "cell_type": "code",
   "execution_count": 29,
   "metadata": {
    "colab": {
     "base_uri": "https://localhost:8080/"
    },
    "executionInfo": {
     "elapsed": 119,
     "status": "ok",
     "timestamp": 1641076467763,
     "user": {
      "displayName": "Sandra Boniface",
      "photoUrl": "https://lh3.googleusercontent.com/a/default-user=s64",
      "userId": "03345789915334645141"
     },
     "user_tz": -60
    },
    "id": "Q2VOJL6h_xkZ",
    "outputId": "628a028d-bca2-4cf7-d16c-ff6c02a9bbd5"
   },
   "outputs": [
    {
     "name": "stdout",
     "output_type": "stream",
     "text": [
      "LightGBM model performance - test set\n",
      "r2_score:  0.971872536020996\n",
      "Root Mean Squared Error: 3.20\n",
      "Root Mean Absolute Error: 2.78\n"
     ]
    }
   ],
   "source": [
    "mse_lgb = mean_squared_error(y_test, y_pred_lgb, squared = False)\n",
    "mae_lgb = mean_absolute_error(y_test, y_pred_lgb)\n",
    "\n",
    "print('LightGBM model performance - test set')\n",
    "print('r2_score: ', r2_score(y_test, y_pred_lgb))\n",
    "print('Root Mean Squared Error: %.2f' % np.sqrt(mse_lgb))\n",
    "print('Root Mean Absolute Error: %.2f' % np.sqrt(mae_lgb))"
   ]
  },
  {
   "cell_type": "code",
   "execution_count": 30,
   "metadata": {
    "colab": {
     "base_uri": "https://localhost:8080/",
     "height": 448
    },
    "executionInfo": {
     "elapsed": 1948,
     "status": "ok",
     "timestamp": 1641076469597,
     "user": {
      "displayName": "Sandra Boniface",
      "photoUrl": "https://lh3.googleusercontent.com/a/default-user=s64",
      "userId": "03345789915334645141"
     },
     "user_tz": -60
    },
    "id": "u-kQdpzjACRt",
    "outputId": "4c26e6a2-512c-438f-bd4c-3c727cf89d63"
   },
   "outputs": [
    {
     "data": {
      "image/png": "[encoded data removed]",
      "text/plain": [
       "<Figure size 576x396 with 2 Axes>"
      ]
     },
     "metadata": {},
     "output_type": "display_data"
    }
   ],
   "source": [
    "visualizer7 = ResidualsPlot(pipeline_lgb)\n",
    "\n",
    "visualizer7.fit(X_train.values, y_train)  \n",
    "visualizer7.score(X_test.values, y_test)  \n",
    "visualizer7.show();               "
   ]
  },
  {
   "cell_type": "code",
   "execution_count": 31,
   "metadata": {
    "colab": {
     "base_uri": "https://localhost:8080/",
     "height": 450
    },
    "executionInfo": {
     "elapsed": 279,
     "status": "ok",
     "timestamp": 1641076469598,
     "user": {
      "displayName": "Sandra Boniface",
      "photoUrl": "https://lh3.googleusercontent.com/a/default-user=s64",
      "userId": "03345789915334645141"
     },
     "user_tz": -60
    },
    "id": "6CveUi-1AavM",
    "outputId": "c6aece10-02a3-40af-b65e-bfd65c29a5c3"
   },
   "outputs": [
    {
     "data": {
      "image/png": "[encoded data removed]",
      "text/plain": [
       "<Figure size 576x396 with 1 Axes>"
      ]
     },
     "metadata": {},
     "output_type": "display_data"
    }
   ],
   "source": [
    "visualizer8 = PredictionError(pipeline_lgb)\n",
    "visualizer8.fit(X_train.values, y_train)  \n",
    "visualizer8.score(X_test.values, y_test)  \n",
    "visualizer8.show();                 "
   ]
  },
  {
   "cell_type": "markdown",
   "metadata": {
    "id": "qxOOJqjTPeOZ"
   },
   "source": [
    "We reach an equally good performance with XGBoost, LightGBM, RandomForestRegressor. Out of the 3 models, LightGBM is the one performing better."
   ]
  },
  {
   "cell_type": "markdown",
   "metadata": {
    "id": "37LZgp0CFRHw"
   },
   "source": [
    "### c) Validating model on validation set"
   ]
  },
  {
   "cell_type": "markdown",
   "metadata": {
    "id": "V9IvBey8HM_5"
   },
   "source": [
    "Now we will make predictions using the validation set in order to validate our model. We will only use the following models in the validation part:\n",
    "- Linear Regression model for explainability (despite its poorer model performance)\n",
    "- LightGBM model as it is the best performing model"
   ]
  },
  {
   "cell_type": "code",
   "execution_count": 32,
   "metadata": {
    "id": "kcFiaB7jFqGJ"
   },
   "outputs": [],
   "source": [
    "# Import validation data, and split target andfeature variables\n",
    "val_df = pd.read_csv('solarcast_train.csv')\n",
    "X_val = val_df.drop(['Daily_radiation'], axis=1)\n",
    "y_val = val_df['Daily_radiation']"
   ]
  },
  {
   "cell_type": "code",
   "execution_count": 33,
   "metadata": {
    "id": "OzHQ8cD3IvXt"
   },
   "outputs": [],
   "source": [
    "y_val_lr = pipeline_lr.predict(X_val.values)\n",
    "y_val_lgb = pipeline_lgb.predict(X_val.values)"
   ]
  },
  {
   "cell_type": "code",
   "execution_count": 34,
   "metadata": {
    "colab": {
     "base_uri": "https://localhost:8080/"
    },
    "executionInfo": {
     "elapsed": 224,
     "status": "ok",
     "timestamp": 1641076469603,
     "user": {
      "displayName": "Sandra Boniface",
      "photoUrl": "https://lh3.googleusercontent.com/a/default-user=s64",
      "userId": "03345789915334645141"
     },
     "user_tz": -60
    },
    "id": "tsdMuM6NHKhW",
    "outputId": "58e0016b-4253-41ce-8fdd-b9ac206623bf"
   },
   "outputs": [
    {
     "name": "stdout",
     "output_type": "stream",
     "text": [
      "Linear Regression model performance - validation set\n",
      "r2_score:  0.8226585093551617\n",
      "Root Mean Squared Error: 5.01\n",
      "Root Mean Absolute Error: 4.50\n"
     ]
    }
   ],
   "source": [
    "# Evaluating algorithm performance for linear regression\n",
    "mse_lr_val = mean_squared_error(y_val, y_val_lr, squared = False)\n",
    "\n",
    "mae_lr_val = mean_absolute_error(y_val, y_val_lr)\n",
    "\n",
    "print('Linear Regression model performance - validation set')\n",
    "print('r2_score: ', r2_score(y_val, y_val_lr))\n",
    "print('Root Mean Squared Error: %.2f' % np.sqrt(mse_lr_val))\n",
    "print('Root Mean Absolute Error: %.2f' % np.sqrt(mae_lr_val))"
   ]
  },
  {
   "cell_type": "code",
   "execution_count": 35,
   "metadata": {
    "colab": {
     "base_uri": "https://localhost:8080/"
    },
    "executionInfo": {
     "elapsed": 223,
     "status": "ok",
     "timestamp": 1641076469609,
     "user": {
      "displayName": "Sandra Boniface",
      "photoUrl": "https://lh3.googleusercontent.com/a/default-user=s64",
      "userId": "03345789915334645141"
     },
     "user_tz": -60
    },
    "id": "Sg0zKAi0JclD",
    "outputId": "d9ddf0df-045f-4370-fddc-d0d433df1e16"
   },
   "outputs": [
    {
     "name": "stdout",
     "output_type": "stream",
     "text": [
      "LightGBM  model performance - validation set\n",
      "r2_score:  0.9973404972993501\n",
      "Root Mean Squared Error: 1.75\n",
      "Root Mean Absolute Error: 1.46\n"
     ]
    }
   ],
   "source": [
    "# Evaluating algorithm performance for LightGBM model\n",
    "mse_lgb_val = mean_squared_error(y_val, y_val_lgb, squared = False)\n",
    "\n",
    "mae_lgb_val = mean_absolute_error(y_val, y_val_lgb)\n",
    "\n",
    "print('LightGBM  model performance - validation set')\n",
    "print('r2_score: ', r2_score(y_val, y_val_lgb))\n",
    "print('Root Mean Squared Error: %.2f' % np.sqrt(mse_lgb_val))\n",
    "print('Root Mean Absolute Error: %.2f' % np.sqrt(mae_lgb_val))"
   ]
  },
  {
   "cell_type": "markdown",
   "metadata": {
    "id": "qBCkDVoxMmGO"
   },
   "source": [
    "Model performance improves on the validation set for both the Linear Regression model and the Light GBM model. For the LightGBM model, we almost reach perfect predictions with a R2 = 0.9973\n",
    "The performance on the validation allow us to validate our LightGBM model."
   ]
  },
  {
   "cell_type": "markdown",
   "metadata": {
    "id": "4J9UcMBhNayL"
   },
   "source": [
    "Model performmance of our LightGBM could be improved by:\n",
    "- performing hyperparameter tuning\n",
    "- performing feature selection\n",
    "- withdrawinb data points with higher prediction residuals"
   ]
  },
  {
   "cell_type": "markdown",
   "metadata": {
    "id": "RrEsyPhRKsh5"
   },
   "source": [
    "### d) Feature importance/ Model coefficients"
   ]
  },
  {
   "cell_type": "markdown",
   "metadata": {
    "id": "UfNgEaSJU7G9"
   },
   "source": [
    "Now, we will try to understand which features impact mostly daily radiation in both our models."
   ]
  },
  {
   "cell_type": "markdown",
   "metadata": {
    "id": "-TM7cpQGVokp"
   },
   "source": [
    "***Linear Regression***"
   ]
  },
  {
   "cell_type": "code",
   "execution_count": 36,
   "metadata": {
    "colab": {
     "base_uri": "https://localhost:8080/",
     "height": 363
    },
    "executionInfo": {
     "elapsed": 192,
     "status": "ok",
     "timestamp": 1641076469615,
     "user": {
      "displayName": "Sandra Boniface",
      "photoUrl": "https://lh3.googleusercontent.com/a/default-user=s64",
      "userId": "03345789915334645141"
     },
     "user_tz": -60
    },
    "id": "K5Sww3wlZDgY",
    "outputId": "144eeaca-f026-47f2-c8e1-b4892f61155c"
   },
   "outputs": [
    {
     "data": {
      "text/html": [
       "<div>\n",
       "<style scoped>\n",
       "    .dataframe tbody tr th:only-of-type {\n",
       "        vertical-align: middle;\n",
       "    }\n",
       "\n",
       "    .dataframe tbody tr th {\n",
       "        vertical-align: top;\n",
       "    }\n",
       "\n",
       "    .dataframe thead th {\n",
       "        text-align: right;\n",
       "    }\n",
       "</style>\n",
       "<table border=\"1\" class=\"dataframe\">\n",
       "  <thead>\n",
       "    <tr style=\"text-align: right;\">\n",
       "      <th></th>\n",
       "      <th>Coefficient</th>\n",
       "    </tr>\n",
       "  </thead>\n",
       "  <tbody>\n",
       "    <tr>\n",
       "      <th>Daily_GHI</th>\n",
       "      <td>85.165985</td>\n",
       "    </tr>\n",
       "    <tr>\n",
       "      <th>Daily_WindDir</th>\n",
       "      <td>6.684860</td>\n",
       "    </tr>\n",
       "    <tr>\n",
       "      <th>Daily_Precip</th>\n",
       "      <td>4.582481</td>\n",
       "    </tr>\n",
       "    <tr>\n",
       "      <th>Daily_Pressure</th>\n",
       "      <td>2.978980</td>\n",
       "    </tr>\n",
       "    <tr>\n",
       "      <th>month</th>\n",
       "      <td>2.566448</td>\n",
       "    </tr>\n",
       "    <tr>\n",
       "      <th>day</th>\n",
       "      <td>0.472292</td>\n",
       "    </tr>\n",
       "    <tr>\n",
       "      <th>Daily_WindSpeed</th>\n",
       "      <td>-1.310813</td>\n",
       "    </tr>\n",
       "    <tr>\n",
       "      <th>Daily_Humidity</th>\n",
       "      <td>-9.313008</td>\n",
       "    </tr>\n",
       "    <tr>\n",
       "      <th>Daily_Temp</th>\n",
       "      <td>-12.841094</td>\n",
       "    </tr>\n",
       "    <tr>\n",
       "      <th>Daily_DNI</th>\n",
       "      <td>-79.902511</td>\n",
       "    </tr>\n",
       "  </tbody>\n",
       "</table>\n",
       "</div>"
      ],
      "text/plain": [
       "                 Coefficient\n",
       "Daily_GHI          85.165985\n",
       "Daily_WindDir       6.684860\n",
       "Daily_Precip        4.582481\n",
       "Daily_Pressure      2.978980\n",
       "month               2.566448\n",
       "day                 0.472292\n",
       "Daily_WindSpeed    -1.310813\n",
       "Daily_Humidity     -9.313008\n",
       "Daily_Temp        -12.841094\n",
       "Daily_DNI         -79.902511"
      ]
     },
     "execution_count": 36,
     "metadata": {},
     "output_type": "execute_result"
    }
   ],
   "source": [
    "coef_table = pd.DataFrame(pipelines['LR']['linearregression'].coef_, index=X_train.columns)\n",
    "coef_table.rename(columns={0: 'Coefficient'}, inplace=True)\n",
    "coef_table.sort_values(by='Coefficient', ascending=False)"
   ]
  },
  {
   "cell_type": "markdown",
   "metadata": {
    "id": "H3PWMjkoZRPt"
   },
   "source": [
    "Top contributing features are Daily GHI, Daily GNI and temperatures. It makes sense that Daily DNI and Daily GHI are the variables contributing most to model performance as they are used in the formula to calculate solar radiations level."
   ]
  },
  {
   "cell_type": "code",
   "execution_count": null,
   "metadata": {
    "colab": {
     "base_uri": "https://localhost:8080/",
     "height": 588
    },
    "executionInfo": {
     "elapsed": 1138,
     "status": "ok",
     "timestamp": 1641076470563,
     "user": {
      "displayName": "Sandra Boniface",
      "photoUrl": "https://lh3.googleusercontent.com/a/default-user=s64",
      "userId": "03345789915334645141"
     },
     "user_tz": -60
    },
    "id": "yxRMjziBZ965",
    "outputId": "47132d45-3b5c-412c-b89a-b787a442359d",
    "tags": []
   },
   "outputs": [],
   "source": [
    "feature_imp = pd.DataFrame(sorted(zip(pipelines['LGB']['lgbmregressor'].feature_importances_, \n",
    "                                      X_train.columns)), columns=['Value','Feature'])\n",
    "\n",
    "plt.figure(figsize=(20, 10))\n",
    "sns.barplot(x=\"Value\", y=\"Feature\", data=feature_imp.sort_values(by=\"Value\", ascending=False))\n",
    "plt.title('LightGBM Features importance',fontname=\"DejaVu Sans\", size=16,fontweight=\"bold\")\n",
    "\n",
    "plt.show();\n",
    "#plt.savefig('lgb_importances.png')"
   ]
  },
  {
   "cell_type": "markdown",
   "metadata": {
    "id": "SzHx2zbHboCV"
   },
   "source": [
    "Here the most impactful features are also **Daily_GNI** and **Daily DHI**. However as variable #3, there is **Daily precipitation**."
   ]
  },
  {
   "cell_type": "code",
   "execution_count": null,
   "metadata": {
    "id": "EEfBD-Quw0nS"
   },
   "outputs": [],
   "source": [
    "## Export model and hook it with api"
   ]
  },
  {
   "cell_type": "markdown",
   "metadata": {
    "id": "6LTVEaHfw2R5"
   },
   "source": [
    "## IV- Experiment tracking "
   ]
  },
  {
   "cell_type": "markdown",
   "metadata": {
    "id": "2DjDBWfvxnKl"
   },
   "source": [
    "### a) Experiment tracking with neptune"
   ]
  },
  {
   "cell_type": "code",
   "execution_count": 38,
   "metadata": {},
   "outputs": [],
   "source": [
    "# import neptune libraries and sklearn integration\n",
    "import neptune.new as neptune\n",
    "import neptune.new.integrations.sklearn as npt_utils"
   ]
  },
  {
   "cell_type": "code",
   "execution_count": 39,
   "metadata": {},
   "outputs": [],
   "source": [
    "api_token=\"eyJhcGlfYWRkcmVzcyI6Imh0dHBzOi8vYXBwLm5lcHR1bmUuYWkiLCJhcGlfdXJsIjoiaHR0cHM6Ly9hcHAubmVwdHVuZS5haSIsImFwaV9rZXkiOiIxOWRjYjFlOS04NjM1LTQwNmItYThkNi04YzBmYjliNWQ2YzMifQ==\"\n",
    "workspace = \"sandra.boniface23\"# MOI\n",
    "project_name = 'Solacast'\n",
    "project = workspace + \"/\" + project_name"
   ]
  },
  {
   "cell_type": "code",
   "execution_count": 40,
   "metadata": {},
   "outputs": [
    {
     "name": "stdout",
     "output_type": "stream",
     "text": [
      "https://app.neptune.ai/sandra.boniface23/Solacast/e/SOL-4\n"
     ]
    },
    {
     "name": "stderr",
     "output_type": "stream",
     "text": [
      "Info (NVML): NVML Shared Library Not Found. GPU usage metrics may not be reported. For more information, see https://docs-legacy.neptune.ai/logging-and-managing-experiment-results/logging-experiment-data.html#hardware-consumption \n"
     ]
    },
    {
     "name": "stdout",
     "output_type": "stream",
     "text": [
      "Remember to stop your run once you’ve finished logging your metadata (https://docs.neptune.ai/api-reference/run#stop). It will be stopped automatically only when the notebook kernel/interactive console is terminated.\n"
     ]
    }
   ],
   "source": [
    "run = neptune.init(api_token = api_token, project= project)"
   ]
  },
  {
   "cell_type": "code",
   "execution_count": 41,
   "metadata": {
    "id": "S0k6ZW2gxS8s"
   },
   "outputs": [],
   "source": [
    "# Track files, models, and folders\n",
    "# File\n",
    "run[\"cleaned_datasets\"].track_files(\"solarcast_df_clean281221.csv\")\n",
    "run[\"raw_datasets\"].track_files(\"48.843519_2246138_Solcast_PT60M.csv\")\n",
    "\n",
    "# Folder\n",
    "run[\"notebooks\"].track_files(\"Solcast_model_development.ipynb\")"
   ]
  },
  {
   "cell_type": "code",
   "execution_count": 42,
   "metadata": {
    "id": "j2J-vHQ3xeJB"
   },
   "outputs": [
    {
     "name": "stdout",
     "output_type": "stream",
     "text": [
      "Did not log feature importance chart. Error: could not find feature importances param on Pipeline\n",
      "Did not log feature importance chart. Error: could not find feature importances param on Pipeline\n",
      "Did not log feature importance chart. Error: could not find feature importances param on Pipeline\n"
     ]
    },
    {
     "data": {
      "image/png": "[encoded data removed]",
      "text/plain": [
       "<Figure size 576x396 with 1 Axes>"
      ]
     },
     "metadata": {},
     "output_type": "display_data"
    },
    {
     "data": {
      "image/png": "[encoded data removed]",
      "text/plain": [
       "<Figure size 576x396 with 1 Axes>"
      ]
     },
     "metadata": {},
     "output_type": "display_data"
    },
    {
     "data": {
      "image/png": "[encoded data removed]",
      "text/plain": [
       "<Figure size 576x396 with 1 Axes>"
      ]
     },
     "metadata": {},
     "output_type": "display_data"
    }
   ],
   "source": [
    "# train, and test; while tracking the experiment\n",
    "run['lr_summary'] = npt_utils.create_regressor_summary(pipeline_lr, X_train.values, X_test.values, y_train, y_test)\n",
    "\n",
    "run['rfc_summary'] = npt_utils.create_regressor_summary(pipeline_rfc, X_train.values, X_test.values, y_train, y_test)\n",
    "\n",
    "run['lgb_summary'] = npt_utils.create_regressor_summary(pipeline_lgb, X_train.values, X_test.values, y_train, y_test)\n"
   ]
  },
  {
   "cell_type": "code",
   "execution_count": 43,
   "metadata": {
    "id": "smvBMHK4xfXW"
   },
   "outputs": [
    {
     "name": "stdout",
     "output_type": "stream",
     "text": [
      "Shutting down background jobs, please wait a moment...\n",
      "Done!\n"
     ]
    },
    {
     "name": "stderr",
     "output_type": "stream",
     "text": [
      "Waiting for the remaining 84 operations to synchronize with Neptune. Do not kill this process.\n"
     ]
    },
    {
     "name": "stdout",
     "output_type": "stream",
     "text": [
      "All 84 operations synced, thanks for waiting!\n"
     ]
    }
   ],
   "source": [
    "# stop experiment\n",
    "run.stop()"
   ]
  },
  {
   "cell_type": "markdown",
   "metadata": {
    "id": "OWWQBIJrxzR9",
    "tags": []
   },
   "source": [
    "### b) Experiment tracking with mlflow"
   ]
  },
  {
   "cell_type": "markdown",
   "metadata": {},
   "source": [
    "Command to run in Terminal before running any Jupyter Notebook cell for mlflow:\n",
    "\n",
    "mlflow server \\--backend-store-uri sqlite:///mlflow.db \\--default-artifact-root ./artifacts \\--host 0.0.0.0\n",
    "\n",
    "Make sure to run this command inside folder where the current notebook is located usind **cd**\n",
    "\n",
    "After this command the local server http://127.0.0.1:5000/#/ should be activated"
   ]
  },
  {
   "cell_type": "code",
   "execution_count": 44,
   "metadata": {
    "id": "dfwdE_69xvMZ"
   },
   "outputs": [],
   "source": [
    "# import libraries\n",
    "import mlflow\n",
    "import mlflow.sklearn"
   ]
  },
  {
   "cell_type": "code",
   "execution_count": 45,
   "metadata": {
    "id": "Sie9zjvdx_Ho"
   },
   "outputs": [],
   "source": [
    "# model metrics for linear regression\n",
    "rmse_lr_pred = np.sqrt(mean_squared_error(y_test, y_pred_lr, squared = False))\n",
    "rmae_lr_pred = np.sqrt(mean_absolute_error(y_test, y_pred_lr))\n",
    "R2_score_lr = r2_score(y_test, y_pred_lr)\n",
    "\n",
    "# model metrics for random forest\n",
    "rmse_rfc_pred = np.sqrt(mean_squared_error(y_test, y_pred_rfc, squared = False))\n",
    "rmae_rfc_pred = np.sqrt(mean_absolute_error(y_test, y_pred_rfc))\n",
    "R2_score_rfc = r2_score(y_test, y_pred_rfc)\n",
    "\n",
    "# model metrics for gradient boost\n",
    "rmse_lgb_pred = np.sqrt(mean_squared_error(y_test, y_pred_lgb, squared = False))\n",
    "rmae_lgb_pred = np.sqrt(mean_absolute_error(y_test, y_pred_lgb))\n",
    "R2_score_lgb = r2_score(y_test, y_pred_lgb)"
   ]
  },
  {
   "cell_type": "markdown",
   "metadata": {
    "id": "aiYWz0P9yGOh"
   },
   "source": [
    "***manually log experiment***"
   ]
  },
  {
   "cell_type": "code",
   "execution_count": 46,
   "metadata": {
    "id": "dwN_7swwyOAS"
   },
   "outputs": [],
   "source": [
    " #set the tracking uri\n",
    "mlflow.set_tracking_uri(\"http://127.0.0.1:5000/\")\n",
    "experiment = mlflow.get_experiment('0')"
   ]
  },
  {
   "cell_type": "code",
   "execution_count": 47,
   "metadata": {
    "id": "idJWBDXvySnx"
   },
   "outputs": [
    {
     "name": "stdout",
     "output_type": "stream",
     "text": [
      "Name of experiment: Default\n",
      "Location of Artifact: ./artifacts/0\n",
      "Life cycle phase: active\n",
      "Experiment_ID: 0\n"
     ]
    }
   ],
   "source": [
    "print(\"Name of experiment: {}\".format(experiment.name))\n",
    "print(\"Location of Artifact: {}\".format(experiment.artifact_location))\n",
    "print(\"Life cycle phase: {}\".format(experiment.lifecycle_stage))\n",
    "print(\"Experiment_ID: {}\".format(experiment.experiment_id))"
   ]
  },
  {
   "cell_type": "code",
   "execution_count": 48,
   "metadata": {
    "id": "17ruAvZIyY8m"
   },
   "outputs": [],
   "source": [
    "# start experiment tracking\n",
    "run = mlflow.start_run(run_name = 'solar_irradiation')\n",
    "run_id = run.info.run_id"
   ]
  },
  {
   "cell_type": "code",
   "execution_count": 49,
   "metadata": {
    "id": "9mn5L5RVyhMi"
   },
   "outputs": [],
   "source": [
    "# Log mlflow attributes for mlflow UI\n",
    "# log metrics for linear regression\n",
    "mlflow.log_metric(\"rmse_lr\", rmse_lr_pred)\n",
    "mlflow.log_metric(\"rmae_lr\", rmae_lr_pred)\n",
    "mlflow.log_metric(\"r2_score_lr\", R2_score_lr)\n",
    "\n",
    "# log metrics for random forest\n",
    "mlflow.log_metric(\"rmse_rfc\", rmse_rfc_pred)\n",
    "mlflow.log_metric(\"rmae_rfc\", rmae_rfc_pred)\n",
    "mlflow.log_metric(\"r2_score_rfc\", R2_score_rfc)\n",
    "\n",
    "# log metrics for gradientboost\n",
    "mlflow.log_metric(\"rmse_lgb\", rmse_lgb_pred)\n",
    "mlflow.log_metric(\"rmae_lgb\", rmae_lgb_pred)\n",
    "mlflow.log_metric(\"r2_score_lgb\", R2_score_lgb)"
   ]
  },
  {
   "cell_type": "code",
   "execution_count": 50,
   "metadata": {
    "id": "_x_gZ53yyjru"
   },
   "outputs": [
    {
     "name": "stderr",
     "output_type": "stream",
     "text": [
      "Successfully registered model 'linear-regression-model'.\n",
      "2022/01/04 17:53:48 INFO mlflow.tracking._model_registry.client: Waiting up to 300 seconds for model version to finish creation.                     Model name: linear-regression-model, version 1\n",
      "Created version '1' of model 'linear-regression-model'.\n",
      "Successfully registered model 'sklearn-random-forest-model'.\n",
      "2022/01/04 17:53:57 INFO mlflow.tracking._model_registry.client: Waiting up to 300 seconds for model version to finish creation.                     Model name: sklearn-random-forest-model, version 1\n",
      "Created version '1' of model 'sklearn-random-forest-model'.\n",
      "Successfully registered model 'sklearn-lightgbm-model'.\n",
      "2022/01/04 17:54:04 INFO mlflow.tracking._model_registry.client: Waiting up to 300 seconds for model version to finish creation.                     Model name: sklearn-lightgbm-model, version 1\n",
      "Created version '1' of model 'sklearn-lightgbm-model'.\n"
     ]
    }
   ],
   "source": [
    "# log models experiments\n",
    "artifact_path = \"default\"\n",
    "mlflow.sklearn.log_model(pipeline_lr, artifact_path = artifact_path, registered_model_name = \"linear-regression-model\")\n",
    "mlflow.sklearn.log_model(pipeline_rfc, artifact_path = artifact_path, registered_model_name = \"sklearn-random-forest-model\")\n",
    "mlflow.sklearn.log_model(pipeline_lgb, artifact_path = artifact_path, registered_model_name = \"sklearn-lightgbm-model\")"
   ]
  },
  {
   "cell_type": "code",
   "execution_count": 51,
   "metadata": {
    "id": "WuEJJDLXytcJ"
   },
   "outputs": [],
   "source": [
    "# Log artifacts (output files)\n",
    "#mlflow.log_artifact(\"lr_line_of_fit.jpg\", artifact_path = 'features')\n",
    "\n",
    "# Log Features\n",
    "mlflow.log_artifact('solarcast_train.csv', artifact_path = 'features')"
   ]
  },
  {
   "cell_type": "code",
   "execution_count": 52,
   "metadata": {
    "id": "zU6BijRNyyAS"
   },
   "outputs": [],
   "source": [
    "# End tracking\n",
    "mlflow.end_run()"
   ]
  },
  {
   "cell_type": "markdown",
   "metadata": {
    "id": "5jpySp9SyzSx"
   },
   "source": [
    "***Auto log experiment***"
   ]
  },
  {
   "cell_type": "code",
   "execution_count": 53,
   "metadata": {
    "id": "kHWnqF9Qy7ib"
   },
   "outputs": [
    {
     "name": "stderr",
     "output_type": "stream",
     "text": [
      "2022/01/04 18:04:36 WARNING mlflow.utils.autologging_utils: You are using an unsupported version of sklearn. If you encounter errors during autologging, try upgrading / downgrading sklearn to a supported version, or try upgrading MLflow.\n"
     ]
    }
   ],
   "source": [
    "# enable auto logging\n",
    "mlflow.sklearn.autolog(log_models = True)"
   ]
  },
  {
   "cell_type": "code",
   "execution_count": 54,
   "metadata": {
    "id": "VGmzmy2HzF5d"
   },
   "outputs": [
    {
     "name": "stderr",
     "output_type": "stream",
     "text": [
      "2022/01/04 18:05:05 WARNING mlflow.utils.autologging_utils: Encountered unexpected error during sklearn autologging: The following failures occurred while performing one or more logging operations: [MlflowException('Failed to perform one or more operations on the run with ID 2f713985f3e8481bb910990995935ae6. Failed operations: [RestException(\"INVALID_PARAMETER_VALUE: Changing param values is not allowed. Param with key=\\'steps\\' was already logged with value=\\'[(\\'standardscaler\\', StandardScaler()), (\\'linearregression\\', LinearRegression())]\\' for run ID=\\'2f713985f3e8481bb910990995935ae6\\'. Attempted logging new value \\'[(\\'standardscaler\\', StandardScaler()), (\\'randomforestregressor\\', RandomForestRegressor(random_state=1))]\\'.\")]')]\n",
      "2022/01/04 18:05:16 WARNING mlflow.utils.autologging_utils: Encountered unexpected error during sklearn autologging: The following failures occurred while performing one or more logging operations: [MlflowException('Failed to perform one or more operations on the run with ID 2f713985f3e8481bb910990995935ae6. Failed operations: [RestException(\"INVALID_PARAMETER_VALUE: Changing param values is not allowed. Param with key=\\'steps\\' was already logged with value=\\'[(\\'standardscaler\\', StandardScaler()), (\\'linearregression\\', LinearRegression())]\\' for run ID=\\'2f713985f3e8481bb910990995935ae6\\'. Attempted logging new value \\'[(\\'standardscaler\\', StandardScaler()), (\\'lgbmregressor\\', LGBMRegressor(random_state=1))]\\'.\")]')]\n"
     ]
    }
   ],
   "source": [
    "with mlflow.start_run(experiment_id = experiment.experiment_id, run_name = 'auto_lr_model') as run:\n",
    "    pipeline_lr.fit(X_train.values,y_train)\n",
    "    y_pred_lr = pipeline_lr.predict(X_test.values)\n",
    "    pipeline_rfc.fit(X_train.values,y_train)\n",
    "    y_pred_rfc = pipeline_rfc.predict(X_test.values)\n",
    "    pipeline_lgb.fit(X_train.values, y_train)\n",
    "    y_pred_lgb = pipeline_lgb.predict(X_test.values)"
   ]
  },
  {
   "cell_type": "code",
   "execution_count": 55,
   "metadata": {
    "id": "aAWJ5iXYzIkS"
   },
   "outputs": [],
   "source": [
    "# End tracking\n",
    "mlflow.end_run()"
   ]
  },
  {
   "cell_type": "markdown",
   "metadata": {
    "id": "u7p9Vr_vzNML"
   },
   "source": [
    "***Export models***"
   ]
  },
  {
   "cell_type": "code",
   "execution_count": 56,
   "metadata": {
    "id": "1ERGUjfjzSGi"
   },
   "outputs": [
    {
     "name": "stdout",
     "output_type": "stream",
     "text": [
      "1.0.2\n"
     ]
    }
   ],
   "source": [
    "# check sklearn version\n",
    "from sklearn import __version__\n",
    "\n",
    "print(__version__)"
   ]
  },
  {
   "cell_type": "code",
   "execution_count": 59,
   "metadata": {},
   "outputs": [
    {
     "data": {
      "text/plain": [
       "['model_lr.pkl']"
      ]
     },
     "execution_count": 59,
     "metadata": {},
     "output_type": "execute_result"
    }
   ],
   "source": [
    "import joblib\n",
    "# Save Models to file in the model directory\n",
    "# save linear regression model\n",
    "joblib_lr = \"model_lr.pkl\"  \n",
    "joblib.dump(pipeline_lr, joblib_lr)"
   ]
  },
  {
   "cell_type": "code",
   "execution_count": 60,
   "metadata": {},
   "outputs": [
    {
     "data": {
      "text/plain": [
       "['model_rfc.pkl']"
      ]
     },
     "execution_count": 60,
     "metadata": {},
     "output_type": "execute_result"
    }
   ],
   "source": [
    "# save random forest model\n",
    "joblib_rfc = \"model_rfc.pkl\" \n",
    "joblib.dump(pipeline_rfc, joblib_rfc)"
   ]
  },
  {
   "cell_type": "code",
   "execution_count": 61,
   "metadata": {},
   "outputs": [
    {
     "data": {
      "text/plain": [
       "['model_lgb.pkl']"
      ]
     },
     "execution_count": 61,
     "metadata": {},
     "output_type": "execute_result"
    }
   ],
   "source": [
    "# save gradientboost model\n",
    "joblib_lgb = \"model_lgb.pkl\"  \n",
    "joblib.dump(pipeline_lgb, joblib_lgb)"
   ]
  },
  {
   "cell_type": "markdown",
   "metadata": {
    "id": "mB3gtMfYzboF"
   },
   "source": [
    "Recommended reading\n",
    "https://docs.neptune.ai/integrations-and-supported-tools/model-training/sklearn\n",
    "\n",
    "https://mlflow.org/docs/latest/tracking.html#scenario-1-mlflow-on-localhost\n",
    "\n",
    "https://docs.neptune.ai/getting-started/examples#data-versioning"
   ]
  },
  {
   "cell_type": "code",
   "execution_count": 65,
   "metadata": {},
   "outputs": [
    {
     "name": "stdout",
     "output_type": "stream",
     "text": [
      "'Temperatures\n",
      "Temperature min -2.0\n",
      "Temperature max 36.0\n",
      "Temperature mean 14.0\n"
     ]
    }
   ],
   "source": [
    "print(\"'Temperatures\")\n",
    "print(f\"Temperature min {np.round(df['Daily_Temp'].min(),0)}\")\n",
    "print(f\"Temperature max {np.round(df['Daily_Temp'].max(),0)}\")\n",
    "print(f\"Temperature mean {np.round(df['Daily_Temp'].mean(),0)}\")"
   ]
  },
  {
   "cell_type": "code",
   "execution_count": 66,
   "metadata": {},
   "outputs": [
    {
     "name": "stdout",
     "output_type": "stream",
     "text": [
      "Precipitations\n",
      "Precipitations min 3.0\n",
      "Temperature max 44.0\n",
      "Temperature mean 17.0\n"
     ]
    }
   ],
   "source": [
    "print(\"Precipitations\")\n",
    "print(f\"Precipitations min {np.round(df['Daily_Precip'].min(),0)}\")\n",
    "print(f\"Temperature max {np.round(df['Daily_Precip'].max(),0)}\")\n",
    "print(f\"Temperature mean {np.round(df['Daily_Precip'].mean(),0)}\")"
   ]
  },
  {
   "cell_type": "code",
   "execution_count": 67,
   "metadata": {},
   "outputs": [
    {
     "name": "stdout",
     "output_type": "stream",
     "text": [
      "Humidity\n",
      "Humidity min 24.0\n",
      "Humidity max 95.0\n",
      "Humidity mean 63.0\n"
     ]
    }
   ],
   "source": [
    "print(\"Humidity\")\n",
    "print(f\"Humidity min {np.round(df['Daily_Humidity'].min(),0)}\")\n",
    "print(f\"Humidity max {np.round(df['Daily_Humidity'].max(),0)}\")\n",
    "print(f\"Humidity mean {np.round(df['Daily_Humidity'].mean(),0)}\")"
   ]
  },
  {
   "cell_type": "code",
   "execution_count": 68,
   "metadata": {},
   "outputs": [
    {
     "name": "stdout",
     "output_type": "stream",
     "text": [
      "Pressure\n",
      "Pressure min 964.0\n",
      "Pressure max 1034.0\n",
      "Pressure mean 1005.0\n"
     ]
    }
   ],
   "source": [
    "print(\"Pressure\")\n",
    "print(f\"Pressure min {np.round(df['Daily_Pressure'].min(),0)}\")\n",
    "print(f\"Pressure max {np.round(df['Daily_Pressure'].max(),0)}\")\n",
    "print(f\"Pressure mean {np.round(df['Daily_Pressure'].mean(),0)}\")"
   ]
  },
  {
   "cell_type": "code",
   "execution_count": 69,
   "metadata": {},
   "outputs": [
    {
     "name": "stdout",
     "output_type": "stream",
     "text": [
      "wind direction\n",
      "wind direction 7.0\n",
      "wind direction 351.0\n",
      "wind direction 188.0\n"
     ]
    }
   ],
   "source": [
    "print('wind direction')\n",
    "print(f\"wind direction {np.round(df['Daily_WindDir'].min(),0)}\")\n",
    "print(f\"wind direction {np.round(df['Daily_WindDir'].max(),0)}\")\n",
    "print(f\"wind direction {np.round(df['Daily_WindDir'].mean(),0)}\")"
   ]
  },
  {
   "cell_type": "code",
   "execution_count": 70,
   "metadata": {},
   "outputs": [
    {
     "name": "stdout",
     "output_type": "stream",
     "text": [
      "wind Speed\n",
      "wind Speed 1.0\n",
      "wind Speed 11.0\n",
      "wind Speed 4.0\n"
     ]
    }
   ],
   "source": [
    "print('wind Speed')\n",
    "print(f\"wind Speed {np.round(df['Daily_WindSpeed'].min(),0)}\")\n",
    "print(f\"wind Speed {np.round(df['Daily_WindSpeed'].max(),0)}\")\n",
    "print(f\"wind Speed {np.round(df['Daily_WindSpeed'].mean(),0)}\")"
   ]
  },
  {
   "cell_type": "code",
   "execution_count": 74,
   "metadata": {},
   "outputs": [
    {
     "name": "stdout",
     "output_type": "stream",
     "text": [
      "DNI\n",
      "DNI min 0.0\n",
      "DNI max 750.0\n",
      "DNI mean 235.0\n"
     ]
    }
   ],
   "source": [
    "print('DNI')\n",
    "print(f\"DNI min {np.round(df['Daily_DNI'].min(),0)}\")\n",
    "print(f\"DNI max {np.round(df['Daily_DNI'].max(),0)}\")\n",
    "print(f\"DNI mean {np.round(df['Daily_DNI'].mean(),0)}\")"
   ]
  },
  {
   "cell_type": "code",
   "execution_count": 75,
   "metadata": {},
   "outputs": [
    {
     "name": "stdout",
     "output_type": "stream",
     "text": [
      "GHI\n",
      "GHI min 29.0\n",
      "GHI max 525.0\n",
      "GHI mean 248.0\n"
     ]
    }
   ],
   "source": [
    "print('GHI')\n",
    "print(f\"GHI min {np.round(df['Daily_GHI'].min(),0)}\")\n",
    "print(f\"GHI max {np.round(df['Daily_GHI'].max(),0)}\")\n",
    "print(f\"GHI mean {np.round(df['Daily_GHI'].mean(),0)}\")"
   ]
  },
  {
   "cell_type": "code",
   "execution_count": 76,
   "metadata": {},
   "outputs": [
    {
     "data": {
      "text/plain": [
       "-4.0"
      ]
     },
     "execution_count": 76,
     "metadata": {},
     "output_type": "execute_result"
    }
   ],
   "source": [
    "np.round(df['Daily_Temp'].min(),0)-2"
   ]
  },
  {
   "cell_type": "code",
   "execution_count": null,
   "metadata": {},
   "outputs": [],
   "source": [
    "temperature = st.sidebar.slider(label = 'Average daily temperature', min_value = np.round(df['Daily_Temp'].min(),0)-2,\n",
    "                          max_value = np.round(df['Daily_Temp'].max(),0)+2,\n",
    "                          value = np.round(df['Daily_Temp'].mean(),0),\n",
    "                          step = 1)\n",
    "\n",
    "precipitations = st.sidebar.slider(label = 'Average daily precipitations', min_value = np.round(df['Daily_Precip'].min(),0),\n",
    "                          max_value = np.round(df['Daily_Precip'].max(),0),\n",
    "                          value = np.round(df['Daily_Precip'].mean(),0),\n",
    "                          step = 1)\n",
    "\n",
    "humidty= st.sidebar.slider(label = 'Average daily humidty', min_value = np.round(df['Daily_Humidity'].min(),0),\n",
    "                          max_value = np.round(df['Daily_Humidity'].max(),0),\n",
    "                          value = np.round(df['Daily_Humidity'].mean(),0),\n",
    "                          step = 1)\n",
    "\n",
    "pressure = st.sidebar.slider(label = 'Average daily pressure', min_value = np.round(df['Daily_Pressure'].min(),0),\n",
    "                          max_value = np.round(df['Daily_Pressure'].max(),0),\n",
    "                          value = np.round(df['Daily_Pressure'].mean(),0),\n",
    "                          step = 1)\n",
    "\n",
    "\n",
    "wind_direction = st.sidebar.slider(label = 'Average daily wind direction', min_value = np.round(df['Daily_WindDir'].min(),0),\n",
    "                          max_value = np.round(df['Daily_WindDir'].max(),0),\n",
    "                          value = np.round(df['Daily_WindDir'].mean(),0),\n",
    "                          step = 1)\n",
    "\n",
    "wind_speed = st.sidebar.slider(label = 'Average daily  wind speed', min_value = np.round(df['Daily_WindSpeed'].min(),0),\n",
    "                          max_value = np.round(df['Daily_WindSpeed'].max(),0),\n",
    "                          value = np.round(df['Daily_WindSpeed'].mean(),0),\n",
    "                          step = 1)\n",
    "\n",
    "dni = st.sidebar.slider(label = 'Average daily DNI', min_value = np.round(df['Daily_DNI'].min(),0),\n",
    "                          max_value = np.round(df['Daily_DNI'].max(),0),\n",
    "                          value = np.round(df['Daily_DNI'].mean(),0),\n",
    "                          step = 1)\n",
    "\n",
    "ghi = st.sidebar.slider(label = 'Average daily GHI',  min_value = np.round(df['Daily_GHI'].min(),0),\n",
    "                          max_value = np.round(df['Daily_GHI'].max(),0),\n",
    "                          value = np.round(df['Daily_GHI'].mean(),0),\n",
    "                          step = 1)"
   ]
  },
  {
   "cell_type": "code",
   "execution_count": 77,
   "metadata": {},
   "outputs": [
    {
     "data": {
      "text/plain": [
       "Index(['month', 'day', 'Daily_Temp', 'Daily_Precip', 'Daily_Humidity',\n",
       "       'Daily_Pressure', 'Daily_WindDir', 'Daily_WindSpeed', 'Daily_DNI',\n",
       "       'Daily_GHI', 'Daily_radiation'],\n",
       "      dtype='object')"
      ]
     },
     "execution_count": 77,
     "metadata": {},
     "output_type": "execute_result"
    }
   ],
   "source": [
    "df.columns"
   ]
  },
  {
   "cell_type": "code",
   "execution_count": 81,
   "metadata": {},
   "outputs": [
    {
     "ename": "AttributeError",
     "evalue": "'numpy.ndarray' object has no attribute 'sort_values'",
     "output_type": "error",
     "traceback": [
      "\u001b[0;31m---------------------------------------------------------------------------\u001b[0m",
      "\u001b[0;31mAttributeError\u001b[0m                            Traceback (most recent call last)",
      "\u001b[0;32m/var/folders/yr/dn66lq496bx16ymf6g3z61d40000gn/T/ipykernel_13927/2743535806.py\u001b[0m in \u001b[0;36m<module>\u001b[0;34m\u001b[0m\n\u001b[0;32m----> 1\u001b[0;31m \u001b[0mdf\u001b[0m\u001b[0;34m[\u001b[0m\u001b[0;34m'day'\u001b[0m\u001b[0;34m]\u001b[0m\u001b[0;34m.\u001b[0m\u001b[0munique\u001b[0m\u001b[0;34m(\u001b[0m\u001b[0;34m)\u001b[0m\u001b[0;34m.\u001b[0m\u001b[0msort_values\u001b[0m\u001b[0;34m(\u001b[0m\u001b[0;34m)\u001b[0m\u001b[0;34m\u001b[0m\u001b[0;34m\u001b[0m\u001b[0m\n\u001b[0m",
      "\u001b[0;31mAttributeError\u001b[0m: 'numpy.ndarray' object has no attribute 'sort_values'"
     ]
    }
   ],
   "source": [
    "df['day'].unique().sort_values()"
   ]
  },
  {
   "cell_type": "code",
   "execution_count": 83,
   "metadata": {},
   "outputs": [
    {
     "data": {
      "text/plain": [
       "array([12,  1,  2,  3,  4,  5,  6,  7,  8,  9, 10, 11])"
      ]
     },
     "execution_count": 83,
     "metadata": {},
     "output_type": "execute_result"
    }
   ],
   "source": [
    "df['month'].unique()"
   ]
  },
  {
   "cell_type": "code",
   "execution_count": 86,
   "metadata": {},
   "outputs": [],
   "source": [
    "month_number = [ 1,  2,  3,  4,  5,  6,  7,  8,  9, 10, 11, 12]"
   ]
  },
  {
   "cell_type": "code",
   "execution_count": 87,
   "metadata": {},
   "outputs": [],
   "source": [
    "month_list = ['January','February','March','April', 'May', 'June', 'July', 'August','September', 'October', 'November', 'December']"
   ]
  },
  {
   "cell_type": "code",
   "execution_count": 97,
   "metadata": {},
   "outputs": [
    {
     "name": "stdout",
     "output_type": "stream",
     "text": [
      "3.8.8\n"
     ]
    }
   ],
   "source": [
    "from platform import python_version\n",
    "\n",
    "print(python_version())"
   ]
  },
  {
   "cell_type": "code",
   "execution_count": 90,
   "metadata": {},
   "outputs": [],
   "source": [
    "#sorted(list(df['day'].unique()))"
   ]
  },
  {
   "cell_type": "code",
   "execution_count": 92,
   "metadata": {},
   "outputs": [],
   "source": [
    "df2 = df.copy()"
   ]
  },
  {
   "cell_type": "code",
   "execution_count": 95,
   "metadata": {},
   "outputs": [],
   "source": [
    "df2['month'] = df2['month'].map(dict(zip(month_number, month_list)))"
   ]
  },
  {
   "cell_type": "code",
   "execution_count": 96,
   "metadata": {},
   "outputs": [
    {
     "data": {
      "text/plain": [
       "0       December\n",
       "1        January\n",
       "2        January\n",
       "3        January\n",
       "4        January\n",
       "          ...   \n",
       "1082    December\n",
       "1083    December\n",
       "1084    December\n",
       "1085    December\n",
       "1086    December\n",
       "Name: month, Length: 1087, dtype: object"
      ]
     },
     "execution_count": 96,
     "metadata": {},
     "output_type": "execute_result"
    }
   ],
   "source": [
    "df2['month']"
   ]
  },
  {
   "cell_type": "code",
   "execution_count": null,
   "metadata": {},
   "outputs": [],
   "source": [
    "features_df['month'] = features_df['month'].map(dict(zip(month_list, month_number)))"
   ]
  },
  {
   "cell_type": "code",
   "execution_count": 105,
   "metadata": {},
   "outputs": [],
   "source": [
    "list_day = sorted([df['day'].unique()])"
   ]
  },
  {
   "cell_type": "code",
   "execution_count": 106,
   "metadata": {},
   "outputs": [
    {
     "data": {
      "text/plain": [
       "[array([31,  1,  2,  3,  4,  5,  6,  7,  8,  9, 10, 11, 12, 13, 14, 15, 16,\n",
       "        17, 18, 19, 20, 21, 22, 23, 24, 25, 26, 27, 28, 29, 30])]"
      ]
     },
     "execution_count": 106,
     "metadata": {},
     "output_type": "execute_result"
    }
   ],
   "source": [
    "list_day"
   ]
  },
  {
   "cell_type": "code",
   "execution_count": 107,
   "metadata": {},
   "outputs": [
    {
     "data": {
      "text/plain": [
       "[1,\n",
       " 2,\n",
       " 3,\n",
       " 4,\n",
       " 5,\n",
       " 6,\n",
       " 7,\n",
       " 8,\n",
       " 9,\n",
       " 10,\n",
       " 11,\n",
       " 12,\n",
       " 13,\n",
       " 14,\n",
       " 15,\n",
       " 16,\n",
       " 17,\n",
       " 18,\n",
       " 19,\n",
       " 20,\n",
       " 21,\n",
       " 22,\n",
       " 23,\n",
       " 24,\n",
       " 25,\n",
       " 26,\n",
       " 27,\n",
       " 28,\n",
       " 29,\n",
       " 30,\n",
       " 31]"
      ]
     },
     "execution_count": 107,
     "metadata": {},
     "output_type": "execute_result"
    }
   ],
   "source": [
    "list_day = [1,  2,  3,  4,  5,  6,  7,  8,  9, 10, 11, 12, 13, 14, 15, 16,\n",
    "17, 18, 19, 20, 21, 22, 23, 24, 25, 26, 27, 28, 29, 30, 31]"
   ]
  },
  {
   "cell_type": "code",
   "execution_count": 108,
   "metadata": {},
   "outputs": [
    {
     "name": "stdout",
     "output_type": "stream",
     "text": [
      "<class 'pandas.core.frame.DataFrame'>\n",
      "RangeIndex: 1087 entries, 0 to 1086\n",
      "Data columns (total 11 columns):\n",
      " #   Column           Non-Null Count  Dtype  \n",
      "---  ------           --------------  -----  \n",
      " 0   month            1087 non-null   int64  \n",
      " 1   day              1087 non-null   int64  \n",
      " 2   Daily_Temp       1087 non-null   float64\n",
      " 3   Daily_Precip     1087 non-null   float64\n",
      " 4   Daily_Humidity   1087 non-null   float64\n",
      " 5   Daily_Pressure   1087 non-null   float64\n",
      " 6   Daily_WindDir    1087 non-null   float64\n",
      " 7   Daily_WindSpeed  1087 non-null   float64\n",
      " 8   Daily_DNI        1087 non-null   float64\n",
      " 9   Daily_GHI        1087 non-null   float64\n",
      " 10  Daily_radiation  1087 non-null   float64\n",
      "dtypes: float64(9), int64(2)\n",
      "memory usage: 93.5 KB\n"
     ]
    }
   ],
   "source": [
    "df.info()"
   ]
  },
  {
   "cell_type": "code",
   "execution_count": null,
   "metadata": {},
   "outputs": [],
   "source": [
    "df['Daily_Temp'] = df['Daily_Temp'].astype(float)\n",
    "df['Daily_Precip'] = df['Daily_Precip'].astype(float)\n",
    "df['Daily_Humidity'] = df['Daily_Humidity'].astype(float)\n",
    "df['Daily_Pressure'] = df['Daily_Pressure'].astype(float)\n",
    "df['Daily_WindDir'] = df['Daily_WindDir'].astype(float)\n",
    "df['Daily_WindSpeed'] = df['Daily_WindSpeed'].astype(float)\n",
    "df['Daily_DNI'] = df['Daily_DNI'].astype(float)\n",
    "df['Daily_GHI'] = df['Daily_GHI'].astype(float)"
   ]
  }
 ],
 "metadata": {
  "colab": {
   "authorship_tag": "ABX9TyPZzhk+/mA8AmXDk5rJ8/RN",
   "collapsed_sections": [],
   "mount_file_id": "1E1xAizVtxyv7EKwoj7Ba4EpG4QC3bsob",
   "name": "Solcast_model_experiment_tracking.ipynb",
   "provenance": []
  },
  "kernelspec": {
   "display_name": "Python 3 (ipykernel)",
   "language": "python",
   "name": "python3"
  },
  "language_info": {
   "codemirror_mode": {
    "name": "ipython",
    "version": 3
   },
   "file_extension": ".py",
   "mimetype": "text/x-python",
   "name": "python",
   "nbconvert_exporter": "python",
   "pygments_lexer": "ipython3",
   "version": "3.8.8"
  },
  "neptune": {
   "notebookId": "95d31b05-2070-430f-9bc9-1cdbc4d92dcb",
   "projectVersion": 2
  }
 },
 "nbformat": 4,
 "nbformat_minor": 4
}
